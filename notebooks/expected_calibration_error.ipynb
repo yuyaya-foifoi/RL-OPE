{
 "cells": [
  {
   "cell_type": "code",
   "execution_count": null,
   "metadata": {},
   "outputs": [],
   "source": [
    "import sys\n",
    "sys.path.append(\"../\")\n",
    "from src.environment.ac_control.env import ACControl\n",
    "from src.environment.ac_control.agent import Agent\n",
    "from src.environment.ac_control.interaction import behavior_policy_interaction, estimate_policy_interaction\n",
    "from src.environment.interaction_buffer import Buffer\n",
    "\n",
    "from src.ope.data import train_test_split\n",
    "from src.ope.distribution_evaluation import total_variation_distance_score, brier_score\n",
    "from src.ope.ope_evaluation import execute_ope\n",
    "from src.ope.ranking_evaluation import nDCG\n",
    "\n",
    "from src.ope.visualize import vis_multiclass_calibration_curve\n",
    "\n",
    "import numpy as np\n",
    "import pandas as pd\n",
    "\n",
    "np.random.seed(42)"
   ]
  },
  {
   "cell_type": "code",
   "execution_count": null,
   "metadata": {},
   "outputs": [],
   "source": [
    "agent = Agent()\n",
    "b_buffer = Buffer()\n",
    "\n",
    "behavior_policy_history = behavior_policy_interaction(\n",
    "    env = ACControl(),\n",
    "    buffer = b_buffer,\n",
    "    policy_name = 0, \n",
    "    columns = ['ID', 'State', 'Action', 'Reward', 'Next_state', 'Behavior_Policy'], \n",
    "    trial_len = 100_000, \n",
    "    model = agent\n",
    ")"
   ]
  },
  {
   "cell_type": "code",
   "execution_count": null,
   "metadata": {},
   "outputs": [],
   "source": [
    "\n",
    "train_dataset, test_dataset, train_X, train_Y, test_X, test_Y = train_test_split(behavior_policy_history, 'half')"
   ]
  },
  {
   "cell_type": "code",
   "execution_count": null,
   "metadata": {},
   "outputs": [],
   "source": [
    "def _acc(data: pd.DataFrame):\n",
    "    return np.sum(data.high_conf_action == data.Action)\n",
    "\n",
    "def _conf(data: pd.DataFrame):\n",
    "    return np.sum(data.prob_e_policy_of_high_conf_action)\n",
    "\n",
    "def ece(data: pd.DataFrame):\n",
    "    ece_score = 0.0\n",
    "    n_data = len(data)\n",
    "    for b in data.bins.unique():\n",
    "        frac_data = data.groupby('bins').get_group(b)\n",
    "        n_frac_data = len(frac_data)\n",
    "\n",
    "        acc = _acc(frac_data) / n_frac_data\n",
    "        conf = _conf(frac_data) / n_frac_data\n",
    "\n",
    "        ece_score += (n_frac_data / n_data) * np.abs(acc - conf)\n",
    "    return ece_score"
   ]
  },
  {
   "cell_type": "code",
   "execution_count": null,
   "metadata": {},
   "outputs": [],
   "source": [
    "from sklearn.ensemble import RandomForestClassifier\n",
    "from sklearn.neighbors import KNeighborsClassifier\n",
    "from sklearn.linear_model import LogisticRegression\n",
    "from sklearn.calibration import CalibratedClassifierCV\n",
    "\n",
    "models = {\n",
    "    'rf_5' : RandomForestClassifier(max_depth=5),\n",
    "    'rf_10' : RandomForestClassifier(max_depth=10),\n",
    "\n",
    "    'knn_30' : KNeighborsClassifier(n_neighbors=30),\n",
    "    'knn_100' : KNeighborsClassifier(n_neighbors=100),\n",
    "\n",
    "    'lr_10' : LogisticRegression(C=10),\n",
    "    'lr_1' : LogisticRegression(C=1),\n",
    "\n",
    "    'rf_10_iso' : CalibratedClassifierCV(RandomForestClassifier(max_depth=10), cv=2, method=\"isotonic\"),\n",
    "    'knn_100_iso' : CalibratedClassifierCV(KNeighborsClassifier(n_neighbors=100), cv=2, method=\"isotonic\"),\n",
    "    'lr_10_iso' : CalibratedClassifierCV(LogisticRegression(C=10), cv=2, method=\"isotonic\")  ,\n",
    "\n",
    "    'rf_sig' : CalibratedClassifierCV(RandomForestClassifier(max_depth=10), cv=2, method=\"sigmoid\"),\n",
    "    'knn_100_sig' : CalibratedClassifierCV(KNeighborsClassifier(n_neighbors=100), cv=2, method=\"sigmoid\"),\n",
    "    'lr_10_sig' : CalibratedClassifierCV(LogisticRegression(C=10), cv=2, method=\"sigmoid\") \n",
    "}\n",
    "\n",
    "ece_s, total_v_distance = [], []\n",
    "for idx, model_key in enumerate(models):\n",
    "    model = models[model_key]\n",
    "    model.fit(train_X, train_Y)\n",
    "\n",
    "    preds = model.predict(test_X) # -> class\n",
    "    predict_probs = model.predict_proba(test_X)\n",
    "\n",
    "    p_e_policy_in_b_policy_action = [d[test_Y[idx]] for idx, d in enumerate(predict_probs)]\n",
    "    p_e_policy_of_action = [d[preds[idx]] for idx, d in enumerate(predict_probs)] # 推定classの確率値\n",
    "\n",
    "    test_dataset_cp = test_dataset.copy()\n",
    "\n",
    "    test_dataset_cp['prob_e_policy_of_b_policy_action'] = p_e_policy_in_b_policy_action\n",
    "    test_dataset_cp['prob_e_policy_of_high_conf_action'] = p_e_policy_of_action\n",
    "    test_dataset_cp['high_conf_action'] = preds\n",
    "    bins = np.arange(10) / 10\n",
    "    test_dataset_cp[\"bins\"] = pd.cut(\n",
    "                    test_dataset_cp.prob_e_policy_of_high_conf_action, bins=bins, labels=False\n",
    "                )\n",
    "    ece_s.append(ece(test_dataset_cp))\n",
    "    total_v_distance.append(total_variation_distance_score(test_dataset_cp, test_dataset_cp.prob_e_policy_of_b_policy_action, 1))"
   ]
  },
  {
   "cell_type": "code",
   "execution_count": null,
   "metadata": {},
   "outputs": [],
   "source": [
    "import matplotlib.pyplot as plt\n",
    "\n",
    "for i, label in enumerate(models.keys()):\n",
    "    plt.scatter(total_v_distance[i], ece_s[i], label=list(models.keys())[i])\n",
    "    #plt.annotate(list(models.keys())[i], (total_v_distance[i], ece_s[i]))\n",
    "\n",
    "plt.xlabel('total_variation_distance')\n",
    "plt.ylabel('expected_calibration_error')\n",
    "\n",
    "\n",
    "plt.legend()\n",
    "plt.show()\n",
    "plt.close()\n"
   ]
  },
  {
   "cell_type": "code",
   "execution_count": null,
   "metadata": {},
   "outputs": [],
   "source": []
  }
 ],
 "metadata": {
  "kernelspec": {
   "display_name": "Python 3.9.5 ('.venv': poetry)",
   "language": "python",
   "name": "python3"
  },
  "language_info": {
   "codemirror_mode": {
    "name": "ipython",
    "version": 3
   },
   "file_extension": ".py",
   "mimetype": "text/x-python",
   "name": "python",
   "nbconvert_exporter": "python",
   "pygments_lexer": "ipython3",
   "version": "3.9.5"
  },
  "orig_nbformat": 4,
  "vscode": {
   "interpreter": {
    "hash": "212f92abc0e2e59dde7de5ba32801ef99667000031d48df25f519fe1fb7790fd"
   }
  }
 },
 "nbformat": 4,
 "nbformat_minor": 2
}
