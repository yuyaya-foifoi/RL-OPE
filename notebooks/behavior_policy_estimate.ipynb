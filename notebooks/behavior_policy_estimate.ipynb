{
 "cells": [
  {
   "cell_type": "code",
   "execution_count": null,
   "metadata": {},
   "outputs": [],
   "source": [
    "import sys\n",
    "sys.path.append(\"../\")\n",
    "from src.environment.ac_control.env import ACControl\n",
    "from src.environment.ac_control.agent import Agent\n",
    "from src.environment.ac_control.interaction import behavior_policy_interaction, estimate_policy_interaction\n",
    "from src.environment.interaction_buffer import Buffer\n",
    "\n",
    "from src.ope.data import train_test_split\n",
    "from src.ope.distribution_evaluation import eval_policy_distance\n",
    "from src.ope.ope_evaluation import execute_ope\n",
    "from src.ope.visualize import visualize_plot\n",
    "\n",
    "\n",
    "\n",
    "import numpy as np\n",
    "import pandas as pd\n",
    "\n",
    "np.random.seed(42)"
   ]
  },
  {
   "cell_type": "code",
   "execution_count": null,
   "metadata": {},
   "outputs": [],
   "source": [
    "agent = Agent()\n",
    "b_buffer = Buffer()\n",
    "\n",
    "behavior_policy_history = behavior_policy_interaction(\n",
    "    env = ACControl(),\n",
    "    buffer = b_buffer,\n",
    "    policy_name = 0, \n",
    "    columns = ['ID', 'State', 'Action', 'Reward', 'Next_state', 'Behavior_Policy'], \n",
    "    trial_len = 100_000, \n",
    "    model = agent\n",
    ")"
   ]
  },
  {
   "cell_type": "code",
   "execution_count": null,
   "metadata": {},
   "outputs": [],
   "source": [
    "train_dataset, test_dataset, train_X, train_Y, test_X, test_Y = train_test_split(behavior_policy_history, 'half')"
   ]
  },
  {
   "cell_type": "code",
   "execution_count": null,
   "metadata": {},
   "outputs": [],
   "source": [
    "from sklearn.ensemble import RandomForestClassifier\n",
    "from sklearn.neighbors import KNeighborsClassifier\n",
    "from sklearn.linear_model import LogisticRegression\n",
    "from sklearn.calibration import CalibratedClassifierCV\n",
    "\n",
    "\n",
    "models = [\n",
    "    RandomForestClassifier(),\n",
    "    KNeighborsClassifier(n_neighbors=5),\n",
    "    KNeighborsClassifier(n_neighbors=10),\n",
    "    KNeighborsClassifier(n_neighbors=30),\n",
    "    KNeighborsClassifier(n_neighbors=100),\n",
    "    LogisticRegression(),\n",
    "    #CalibratedClassifierCV(RandomForestClassifier(), cv=2, method=\"isotonic\"),\n",
    "    #CalibratedClassifierCV(RandomForestClassifier(), cv=2, method=\"sigmoid\"),\n",
    "    #CalibratedClassifierCV(KNeighborsClassifier(), cv=2, method=\"isotonic\"),\n",
    "    #CalibratedClassifierCV(KNeighborsClassifier(), cv=2, method=\"sigmoid\"),\n",
    "    #CalibratedClassifierCV(LogisticRegression(), cv=2, method=\"isotonic\"),\n",
    "    #CalibratedClassifierCV(LogisticRegression(), cv=2, method=\"sigmoid\"),\n",
    "    \n",
    "]\n",
    "\n",
    "model_name = [\n",
    "    'RF',\n",
    "    'KN_5',\n",
    "    'KN_10',\n",
    "    'KN_30',\n",
    "    'KN_100',\n",
    "    'LR',\n",
    "    #'RF_isotonic',\n",
    "    #'RF_sigmoid',\n",
    "    #'KN_isotonic',\n",
    "    #'KN_sigmoid',\n",
    "    #'LR_isotonic',\n",
    "    #'LR_sigmoid',\n",
    "\n",
    "]"
   ]
  },
  {
   "cell_type": "code",
   "execution_count": null,
   "metadata": {},
   "outputs": [],
   "source": [
    "n_interaction = 2_000\n",
    "n_ope_iter = 1_000\n",
    "n_ope_sample_size = 5_000\n",
    "opes = np.zeros((len(models), n_ope_iter + 1))\n",
    "\n",
    "for idx, model in enumerate(models):\n",
    "    model.fit(train_X, train_Y)\n",
    "    dist = model.predict_proba(test_X)\n",
    "    \n",
    "    history = estimate_policy_interaction(\n",
    "        env=ACControl(),\n",
    "        buffer=Buffer(),\n",
    "        policy_name=0,\n",
    "        columns=['ID', 'State', 'Action', 'Reward', 'Next_state', 'Behavior_Policy'],\n",
    "        trial_len=n_interaction,\n",
    "        model=model,\n",
    "    )\n",
    "    policy_distace = eval_policy_distance(\n",
    "        test_dataset = test_dataset, \n",
    "        estimate_policy = [d[test_Y[idx]] for idx, d in enumerate(dist)],\n",
    "        coef = 1,\n",
    "        distace_func = 'total'\n",
    "    )\n",
    "    ope_list = execute_ope(\n",
    "        test_dataset = test_dataset,\n",
    "        estimate_policy_history = history,\n",
    "        model = model,\n",
    "        sample_size = n_ope_sample_size,\n",
    "        n_len = n_ope_iter,\n",
    "        model_type = 'sklearn',\n",
    "        v_estimator = 'IPS',\n",
    "        error_function = 'relative',\n",
    "    )\n",
    "    opes[idx, 0] = policy_distace\n",
    "    opes[idx, 1:] = ope_list\n",
    "\n"
   ]
  },
  {
   "cell_type": "code",
   "execution_count": null,
   "metadata": {},
   "outputs": [],
   "source": [
    "visualize_plot(\n",
    "    x = opes[:, 0],\n",
    "    y = np.mean(opes[:, 1:], axis=1),\n",
    "    yerr = np.std(opes[:, 1:], axis=1),\n",
    "    model_name = model_name,\n",
    "    is_errorbar = True,\n",
    "    labels = ['dist_distance', 'error'],\n",
    "    )\n",
    "np.corrcoef(opes[:, 0], np.mean(opes[:, 1:], axis=1))\n"
   ]
  },
  {
   "cell_type": "code",
   "execution_count": null,
   "metadata": {},
   "outputs": [],
   "source": [
    "visualize_plot(\n",
    "    x = opes[:, 0],\n",
    "    y = np.std(opes[:, 1:], axis=1),\n",
    "    yerr = None,\n",
    "    model_name = model_name,\n",
    "    is_errorbar = False,\n",
    "    labels = ['dist_distance', 'std'],\n",
    "    )\n",
    "np.corrcoef(opes[:, 0], np.std(opes[:, 1:], axis=1))\n"
   ]
  }
 ],
 "metadata": {
  "kernelspec": {
   "display_name": "Python 3.9.5 ('.venv': poetry)",
   "language": "python",
   "name": "python3"
  },
  "language_info": {
   "codemirror_mode": {
    "name": "ipython",
    "version": 3
   },
   "file_extension": ".py",
   "mimetype": "text/x-python",
   "name": "python",
   "nbconvert_exporter": "python",
   "pygments_lexer": "ipython3",
   "version": "3.9.5"
  },
  "orig_nbformat": 4,
  "vscode": {
   "interpreter": {
    "hash": "212f92abc0e2e59dde7de5ba32801ef99667000031d48df25f519fe1fb7790fd"
   }
  }
 },
 "nbformat": 4,
 "nbformat_minor": 2
}
